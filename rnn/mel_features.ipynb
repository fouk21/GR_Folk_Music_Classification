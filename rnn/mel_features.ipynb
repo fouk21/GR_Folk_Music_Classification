{
 "cells": [
  {
   "cell_type": "code",
   "execution_count": 1,
   "metadata": {},
   "outputs": [],
   "source": [
    "import pandas as pd\n",
    "from ast import literal_eval\n",
    "literals = {\n",
    "  'mfcc':  literal_eval,\n",
    "  'chroma': literal_eval\n",
    "}\n",
    "df = pd.read_csv('rnn_features.csv', converters=literals)\n",
    "\n",
    "import numpy as np\n",
    "df = df[['label', 'mfcc', 'chroma']]"
   ]
  },
  {
   "cell_type": "code",
   "execution_count": 2,
   "metadata": {},
   "outputs": [
    {
     "data": {
      "text/plain": [
       "label\n",
       "Romania            6\n",
       "Southern-Italy    29\n",
       "Thessaly          20\n",
       "Thrace            31\n",
       "Turkey             4\n",
       "dtype: int64"
      ]
     },
     "execution_count": 2,
     "metadata": {},
     "output_type": "execute_result"
    }
   ],
   "source": [
    "df.groupby('label').size()"
   ]
  },
  {
   "cell_type": "code",
   "execution_count": 3,
   "metadata": {},
   "outputs": [],
   "source": [
    "df['mfcc'] = df['mfcc'].apply(lambda x: np.array(x))\n",
    "df['chroma'] = df['chroma'].apply(lambda x: np.array(x))"
   ]
  },
  {
   "cell_type": "code",
   "execution_count": 4,
   "metadata": {},
   "outputs": [],
   "source": [
    "dataset = df.values\n",
    "labels = dataset[:, 0]\n",
    "dataset = dataset[:, 1:]"
   ]
  },
  {
   "cell_type": "code",
   "execution_count": 5,
   "metadata": {},
   "outputs": [],
   "source": [
    "# Create an empty list to store the concatenated arrays\n",
    "concatenated_data = []\n",
    "\n",
    "# Iterate over each pair of arrays in the data\n",
    "for array1, array2 in dataset:\n",
    "    # Concatenate the arrays along the first dimension (axis 0)\n",
    "    concatenated_array = np.concatenate((array1, array2), axis=0)\n",
    "    # Append the concatenated array to the list\n",
    "    concatenated_data.append(concatenated_array.T)\n",
    "\n",
    "# Convert the list of concatenated arrays to a numpy array\n",
    "final_data = np.array(concatenated_data)\n",
    "\n",
    "dataset = final_data"
   ]
  },
  {
   "cell_type": "code",
   "execution_count": 6,
   "metadata": {},
   "outputs": [
    {
     "data": {
      "text/plain": [
       "(90, 100, 25)"
      ]
     },
     "execution_count": 6,
     "metadata": {},
     "output_type": "execute_result"
    }
   ],
   "source": [
    "dataset.shape"
   ]
  },
  {
   "cell_type": "code",
   "execution_count": null,
   "metadata": {},
   "outputs": [],
   "source": [
    "encoding = {\n",
    "    'Romania': 0,          \n",
    "    'Southern-Italy': 1,  \n",
    "    'Thessaly': 2,         \n",
    "    'Thrace': 3,           \n",
    "    'Turkey': 4\n",
    "}"
   ]
  },
  {
   "cell_type": "code",
   "execution_count": null,
   "metadata": {},
   "outputs": [],
   "source": [
    "labels2 = [0] * len(labels)\n",
    "for i,label in enumerate(labels):\n",
    "    labels2[i] = encoding[label]"
   ]
  },
  {
   "cell_type": "code",
   "execution_count": null,
   "metadata": {},
   "outputs": [],
   "source": [
    "import torch.nn as nn\n",
    "import torch.optim as optim\n",
    "from torch.utils.data import DataLoader, random_split\n",
    "from sound_utils import *\n",
    "from data_utils import *\n",
    "from model import *\n",
    "from model_utils import ModelUtils\n",
    "\n",
    "num_classes = 5 \n",
    "dataset = AudioDataset(dataset, labels2)\n",
    "\n",
    "# Define the sizes for the splits\n",
    "total_size = len(dataset)\n",
    "train_size = int(0.7 * total_size)\n",
    "val_size = int(0.15 * total_size)\n",
    "test_size = total_size - train_size - val_size\n",
    "\n",
    "# Split the dataset\n",
    "train_dataset, val_dataset, test_dataset = random_split(dataset, [train_size, val_size, test_size])\n",
    "\n",
    "# Create data loaders\n",
    "train_loader = DataLoader(train_dataset, batch_size=5, shuffle=True, collate_fn=collate_fn)\n",
    "val_loader = DataLoader(val_dataset, batch_size=5, shuffle=False, collate_fn=collate_fn)\n",
    "test_loader = DataLoader(test_dataset, batch_size=5, shuffle=False, collate_fn=collate_fn)\n",
    "\n",
    "input_shape = 25"
   ]
  },
  {
   "cell_type": "code",
   "execution_count": null,
   "metadata": {},
   "outputs": [],
   "source": [
    "model_experiment = ModelUtils(train_loader,val_loader,test_loader,input_shape,num_classes)\n",
    "\n",
    "epochs = 1\n",
    "device = torch.device(\"mps\" if torch.backends.mps.is_available() else \"cpu\")\n",
    "\n",
    "params = {\n",
    "            'learning_rate': 0.0001,\n",
    "            'num_layers': 2,\n",
    "            'skip_connections': False,\n",
    "            'dropout_probability': 0.5,\n",
    "            'hidden_layers': 2,\n",
    "            'gradient_clipping': False,\n",
    "            'cell_type': 'rnn',\n",
    "            'hidden_size': 128,\n",
    "            'bidirectional': False\n",
    "            }\n",
    "\n",
    "model_experiment.train_evaluate(params)"
   ]
  },
  {
   "cell_type": "code",
   "execution_count": null,
   "metadata": {},
   "outputs": [],
   "source": [
    "model_experiment.test_model()"
   ]
  }
 ],
 "metadata": {
  "kernelspec": {
   "display_name": "ai",
   "language": "python",
   "name": "python3"
  },
  "language_info": {
   "codemirror_mode": {
    "name": "ipython",
    "version": 3
   },
   "file_extension": ".py",
   "mimetype": "text/x-python",
   "name": "python",
   "nbconvert_exporter": "python",
   "pygments_lexer": "ipython3",
   "version": "3.11.7"
  }
 },
 "nbformat": 4,
 "nbformat_minor": 2
}
